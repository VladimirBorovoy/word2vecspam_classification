{
 "cells": [
  {
   "cell_type": "code",
   "execution_count": 1,
   "id": "aeed263b",
   "metadata": {},
   "outputs": [],
   "source": [
    "import gensim"
   ]
  },
  {
   "cell_type": "code",
   "execution_count": 2,
   "id": "4bd88184",
   "metadata": {},
   "outputs": [],
   "source": [
    "from gensim.models import Word2Vec"
   ]
  },
  {
   "cell_type": "code",
   "execution_count": 3,
   "id": "c7cdd00c",
   "metadata": {},
   "outputs": [],
   "source": [
    "import nltk"
   ]
  },
  {
   "cell_type": "code",
   "execution_count": 4,
   "id": "18223f26",
   "metadata": {},
   "outputs": [],
   "source": [
    "from nltk.tokenize import sent_tokenize, word_tokenize, punkt"
   ]
  },
  {
   "cell_type": "code",
   "execution_count": 5,
   "id": "1d8dcead",
   "metadata": {},
   "outputs": [],
   "source": [
    "from nltk.corpus import stopwords"
   ]
  },
  {
   "cell_type": "code",
   "execution_count": 6,
   "id": "d2e2aa84",
   "metadata": {},
   "outputs": [],
   "source": [
    "import warnings"
   ]
  },
  {
   "cell_type": "code",
   "execution_count": 7,
   "id": "83701026",
   "metadata": {},
   "outputs": [],
   "source": [
    "warnings.filterwarnings(action = 'ignore')"
   ]
  },
  {
   "cell_type": "markdown",
   "id": "b2529430",
   "metadata": {},
   "source": [
    "<h1> Word2Vec для нахождения спама в сообщениях<h1>"
   ]
  },
  {
   "cell_type": "code",
   "execution_count": 8,
   "id": "549edeab",
   "metadata": {},
   "outputs": [],
   "source": [
    "import pandas as pd"
   ]
  },
  {
   "cell_type": "code",
   "execution_count": 9,
   "id": "d5a48f83",
   "metadata": {},
   "outputs": [],
   "source": [
    "df = pd.read_csv(\"SMSSpamCollection.tsv\", sep = '\\t', header = None, names = ['Y', 'X'])"
   ]
  },
  {
   "cell_type": "code",
   "execution_count": 10,
   "id": "833e71bd",
   "metadata": {},
   "outputs": [
    {
     "data": {
      "text/html": [
       "<div>\n",
       "<style scoped>\n",
       "    .dataframe tbody tr th:only-of-type {\n",
       "        vertical-align: middle;\n",
       "    }\n",
       "\n",
       "    .dataframe tbody tr th {\n",
       "        vertical-align: top;\n",
       "    }\n",
       "\n",
       "    .dataframe thead th {\n",
       "        text-align: right;\n",
       "    }\n",
       "</style>\n",
       "<table border=\"1\" class=\"dataframe\">\n",
       "  <thead>\n",
       "    <tr style=\"text-align: right;\">\n",
       "      <th></th>\n",
       "      <th>Y</th>\n",
       "      <th>X</th>\n",
       "    </tr>\n",
       "  </thead>\n",
       "  <tbody>\n",
       "    <tr>\n",
       "      <th>0</th>\n",
       "      <td>ham</td>\n",
       "      <td>Go until jurong point, crazy.. Available only ...</td>\n",
       "    </tr>\n",
       "    <tr>\n",
       "      <th>1</th>\n",
       "      <td>ham</td>\n",
       "      <td>Ok lar... Joking wif u oni...</td>\n",
       "    </tr>\n",
       "    <tr>\n",
       "      <th>2</th>\n",
       "      <td>spam</td>\n",
       "      <td>Free entry in 2 a wkly comp to win FA Cup fina...</td>\n",
       "    </tr>\n",
       "    <tr>\n",
       "      <th>3</th>\n",
       "      <td>ham</td>\n",
       "      <td>U dun say so early hor... U c already then say...</td>\n",
       "    </tr>\n",
       "    <tr>\n",
       "      <th>4</th>\n",
       "      <td>ham</td>\n",
       "      <td>Nah I don't think he goes to usf, he lives aro...</td>\n",
       "    </tr>\n",
       "    <tr>\n",
       "      <th>...</th>\n",
       "      <td>...</td>\n",
       "      <td>...</td>\n",
       "    </tr>\n",
       "    <tr>\n",
       "      <th>5567</th>\n",
       "      <td>spam</td>\n",
       "      <td>This is the 2nd time we have tried 2 contact u...</td>\n",
       "    </tr>\n",
       "    <tr>\n",
       "      <th>5568</th>\n",
       "      <td>ham</td>\n",
       "      <td>Will ü b going to esplanade fr home?</td>\n",
       "    </tr>\n",
       "    <tr>\n",
       "      <th>5569</th>\n",
       "      <td>ham</td>\n",
       "      <td>Pity, * was in mood for that. So...any other s...</td>\n",
       "    </tr>\n",
       "    <tr>\n",
       "      <th>5570</th>\n",
       "      <td>ham</td>\n",
       "      <td>The guy did some bitching but I acted like i'd...</td>\n",
       "    </tr>\n",
       "    <tr>\n",
       "      <th>5571</th>\n",
       "      <td>ham</td>\n",
       "      <td>Rofl. Its true to its name</td>\n",
       "    </tr>\n",
       "  </tbody>\n",
       "</table>\n",
       "<p>5572 rows × 2 columns</p>\n",
       "</div>"
      ],
      "text/plain": [
       "         Y                                                  X\n",
       "0      ham  Go until jurong point, crazy.. Available only ...\n",
       "1      ham                      Ok lar... Joking wif u oni...\n",
       "2     spam  Free entry in 2 a wkly comp to win FA Cup fina...\n",
       "3      ham  U dun say so early hor... U c already then say...\n",
       "4      ham  Nah I don't think he goes to usf, he lives aro...\n",
       "...    ...                                                ...\n",
       "5567  spam  This is the 2nd time we have tried 2 contact u...\n",
       "5568   ham               Will ü b going to esplanade fr home?\n",
       "5569   ham  Pity, * was in mood for that. So...any other s...\n",
       "5570   ham  The guy did some bitching but I acted like i'd...\n",
       "5571   ham                         Rofl. Its true to its name\n",
       "\n",
       "[5572 rows x 2 columns]"
      ]
     },
     "execution_count": 10,
     "metadata": {},
     "output_type": "execute_result"
    }
   ],
   "source": [
    "df"
   ]
  },
  {
   "cell_type": "code",
   "execution_count": 11,
   "id": "9cb2244a",
   "metadata": {},
   "outputs": [
    {
     "data": {
      "text/plain": [
       "Y    0\n",
       "X    0\n",
       "dtype: int64"
      ]
     },
     "execution_count": 11,
     "metadata": {},
     "output_type": "execute_result"
    }
   ],
   "source": [
    "df.isna().sum()"
   ]
  },
  {
   "cell_type": "code",
   "execution_count": 12,
   "id": "c02ca351",
   "metadata": {},
   "outputs": [],
   "source": [
    "import seaborn as sns"
   ]
  },
  {
   "cell_type": "code",
   "execution_count": 13,
   "id": "ac4fce5d",
   "metadata": {},
   "outputs": [
    {
     "data": {
      "text/plain": [
       "<AxesSubplot:xlabel='Y', ylabel='count'>"
      ]
     },
     "execution_count": 13,
     "metadata": {},
     "output_type": "execute_result"
    },
    {
     "data": {
      "image/png": "[encoded data removed]",
      "text/plain": [
       "<Figure size 432x288 with 1 Axes>"
      ]
     },
     "metadata": {
      "needs_background": "light"
     },
     "output_type": "display_data"
    }
   ],
   "source": [
    "sns.countplot(x = 'Y', data = df)"
   ]
  },
  {
   "cell_type": "code",
   "execution_count": 14,
   "id": "71c15849",
   "metadata": {},
   "outputs": [],
   "source": [
    "import re\n",
    "import nltk"
   ]
  },
  {
   "cell_type": "code",
   "execution_count": 15,
   "id": "a5a2a388",
   "metadata": {},
   "outputs": [],
   "source": [
    "df['X'] = df['X'].apply(lambda x: re.sub(r'[^a-zA-Z\\s]', '', x))"
   ]
  },
  {
   "cell_type": "code",
   "execution_count": 16,
   "id": "c69c4a09",
   "metadata": {},
   "outputs": [
    {
     "data": {
      "text/plain": [
       "0       Go until jurong point crazy Available only in ...\n",
       "1                                 Ok lar Joking wif u oni\n",
       "2       Free entry in  a wkly comp to win FA Cup final...\n",
       "3             U dun say so early hor U c already then say\n",
       "4       Nah I dont think he goes to usf he lives aroun...\n",
       "                              ...                        \n",
       "5567    This is the nd time we have tried  contact u U...\n",
       "5568                   Will  b going to esplanade fr home\n",
       "5569    Pity  was in mood for that Soany other suggest...\n",
       "5570    The guy did some bitching but I acted like id ...\n",
       "5571                            Rofl Its true to its name\n",
       "Name: X, Length: 5572, dtype: object"
      ]
     },
     "execution_count": 16,
     "metadata": {},
     "output_type": "execute_result"
    }
   ],
   "source": [
    "df['X']"
   ]
  },
  {
   "cell_type": "code",
   "execution_count": 17,
   "id": "9303ed49",
   "metadata": {},
   "outputs": [],
   "source": [
    "from sklearn.preprocessing import LabelEncoder"
   ]
  },
  {
   "cell_type": "code",
   "execution_count": 18,
   "id": "cb869e68",
   "metadata": {},
   "outputs": [],
   "source": [
    "le = LabelEncoder()"
   ]
  },
  {
   "cell_type": "code",
   "execution_count": 19,
   "id": "69da6ebb",
   "metadata": {},
   "outputs": [],
   "source": [
    "df['Y'] = le.fit_transform(df['Y'])"
   ]
  },
  {
   "cell_type": "code",
   "execution_count": 20,
   "id": "d153b52d",
   "metadata": {},
   "outputs": [
    {
     "data": {
      "text/plain": [
       "0       0\n",
       "1       0\n",
       "2       1\n",
       "3       0\n",
       "4       0\n",
       "       ..\n",
       "5567    1\n",
       "5568    0\n",
       "5569    0\n",
       "5570    0\n",
       "5571    0\n",
       "Name: Y, Length: 5572, dtype: int32"
      ]
     },
     "execution_count": 20,
     "metadata": {},
     "output_type": "execute_result"
    }
   ],
   "source": [
    "df['Y']"
   ]
  },
  {
   "cell_type": "code",
   "execution_count": 21,
   "id": "ea31f747",
   "metadata": {},
   "outputs": [],
   "source": [
    "X = df['X']\n",
    "y = df['Y']"
   ]
  },
  {
   "cell_type": "code",
   "execution_count": 22,
   "id": "9a4931af",
   "metadata": {},
   "outputs": [],
   "source": [
    "X = [x.lower() for x in X]"
   ]
  },
  {
   "cell_type": "code",
   "execution_count": 23,
   "id": "8b418f62",
   "metadata": {},
   "outputs": [],
   "source": [
    "from sklearn.model_selection import train_test_split"
   ]
  },
  {
   "cell_type": "code",
   "execution_count": 24,
   "id": "f4b8f7dc",
   "metadata": {},
   "outputs": [],
   "source": [
    "x_train, x_test, y_train, y_test = train_test_split(X,y, test_size = 0.2)"
   ]
  },
  {
   "cell_type": "code",
   "execution_count": 25,
   "id": "64965517",
   "metadata": {},
   "outputs": [],
   "source": [
    "import gensim\n",
    "from gensim.models import Word2Vec"
   ]
  },
  {
   "cell_type": "code",
   "execution_count": 26,
   "id": "820b9942",
   "metadata": {},
   "outputs": [],
   "source": [
    "words_in_sentences = []\n",
    "\n",
    "for i in x_train:\n",
    "    words_in_sentences.append(i.split())"
   ]
  },
  {
   "cell_type": "code",
   "execution_count": 27,
   "id": "1f46c647",
   "metadata": {},
   "outputs": [],
   "source": [
    "model = Word2Vec(sentences = words_in_sentences, vector_size = 200, workers = -1)"
   ]
  },
  {
   "cell_type": "code",
   "execution_count": 28,
   "id": "090d456a",
   "metadata": {},
   "outputs": [
    {
     "data": {
      "text/plain": [
       "[('have', 0.21524634957313538),\n",
       " ('ever', 0.20625077188014984),\n",
       " ('does', 0.20598630607128143),\n",
       " ('took', 0.19130302965641022),\n",
       " ('darren', 0.18716847896575928),\n",
       " ('love', 0.18017345666885376),\n",
       " ('ltd', 0.1796758621931076),\n",
       " ('shows', 0.17855964601039886),\n",
       " ('trust', 0.17838416993618011),\n",
       " ('starts', 0.17702701687812805)]"
      ]
     },
     "execution_count": 28,
     "metadata": {},
     "output_type": "execute_result"
    }
   ],
   "source": [
    "model.wv.most_similar('free', topn = 10)"
   ]
  },
  {
   "cell_type": "code",
   "execution_count": 29,
   "id": "511082f1",
   "metadata": {},
   "outputs": [
    {
     "data": {
      "text/plain": [
       "array([-4.5562480e-03,  1.6287947e-03, -4.3218853e-03,  1.9824600e-03,\n",
       "        4.0113344e-03, -2.7317845e-03,  4.3647899e-03, -4.3025673e-03,\n",
       "        4.2018332e-03,  3.5753595e-03, -1.6495085e-03, -4.8040259e-03,\n",
       "       -4.5960485e-03,  2.7203904e-03,  4.6908963e-03,  1.1902499e-03,\n",
       "        2.9867040e-03, -3.8860785e-03,  2.9102205e-03,  2.3653067e-03,\n",
       "       -3.1953799e-03,  2.4999117e-03,  3.1674409e-03,  3.3042370e-03,\n",
       "        3.3543588e-04, -4.2036795e-03,  8.7958571e-05, -3.7519753e-03,\n",
       "        2.8113592e-03,  4.2755748e-03,  3.8523185e-03,  1.1415648e-03,\n",
       "        2.7807259e-03,  5.5709365e-04, -1.6421366e-03, -3.4453797e-03,\n",
       "        9.1536640e-04, -4.8774388e-03, -2.1904539e-03, -3.3387374e-03,\n",
       "        1.2109446e-03,  2.2337425e-03, -1.3244033e-04,  1.5632248e-03,\n",
       "        1.0213673e-03, -2.9725409e-03, -1.1022568e-04,  1.8589437e-03,\n",
       "       -3.0717670e-03,  4.2507410e-04,  3.6777318e-03,  2.8161453e-03,\n",
       "       -4.9648392e-03, -4.5072555e-04, -3.9449453e-04,  3.8819266e-03,\n",
       "        2.6872647e-03,  4.1946340e-03, -2.6047039e-03, -2.7282191e-03,\n",
       "        2.3260832e-04,  3.0737722e-03, -4.5489036e-03, -1.0627961e-03,\n",
       "        4.2027594e-03, -4.1128932e-03,  4.7049630e-03,  1.7020846e-03,\n",
       "        2.6507997e-03,  3.6885857e-04, -1.6860985e-03,  2.8209377e-03,\n",
       "       -2.9787541e-04,  2.1415567e-03, -2.2489440e-03,  3.5927331e-03,\n",
       "        1.7063081e-03, -3.1319321e-03,  1.1335862e-03, -3.7017285e-03,\n",
       "       -5.5763364e-04,  4.6265018e-03,  7.4057101e-04, -2.7555369e-03,\n",
       "        6.3822270e-05,  4.2877196e-05,  2.1886241e-03,  2.8344775e-03,\n",
       "        5.8323739e-04,  3.2954717e-03, -3.7805771e-03,  7.9066394e-04,\n",
       "        1.9701051e-03, -7.3848484e-04,  9.2679264e-05, -4.4162939e-03,\n",
       "        3.5301722e-03, -3.1053065e-04,  2.8639316e-04, -3.4218871e-03,\n",
       "        2.3454535e-03,  4.5745135e-03, -2.8078747e-03,  1.0864425e-03,\n",
       "       -2.0046199e-03,  4.4111549e-03,  1.7637146e-03, -8.3203794e-04,\n",
       "       -2.7542030e-03,  3.5160064e-04,  2.4286413e-03, -2.3904992e-03,\n",
       "        3.6396075e-03,  2.0790219e-04, -1.9707144e-03, -2.4663210e-03,\n",
       "       -9.0594770e-04, -6.8291189e-04, -9.5662475e-04,  1.6721964e-03,\n",
       "        2.6577211e-03, -3.5694516e-03,  4.6954844e-03,  3.8746477e-03,\n",
       "        1.3614583e-03,  3.0622017e-03,  1.2688637e-05, -7.5274706e-04,\n",
       "       -7.8347209e-04,  3.9417003e-03,  2.2474051e-04,  4.1250251e-03,\n",
       "        4.8744201e-04, -4.0065134e-03,  5.4504990e-04,  3.6060000e-03,\n",
       "        1.5319920e-03, -1.6490996e-03, -4.5382978e-05,  1.2035477e-03,\n",
       "        3.9591669e-04,  4.5705200e-04,  3.8129271e-03, -3.4703314e-03,\n",
       "       -6.6977501e-04,  8.7690947e-04, -1.8102729e-03,  5.8157922e-04,\n",
       "       -9.4419363e-04, -5.7032227e-04,  3.6368347e-03, -2.5452971e-03,\n",
       "       -2.7544475e-03,  2.8629852e-03,  4.3327571e-03,  2.8035175e-03,\n",
       "       -3.0629290e-03,  2.6296305e-03,  3.5028721e-03,  2.2338866e-03,\n",
       "        2.2976685e-03,  3.8516212e-03,  2.8406084e-03, -3.5170137e-03,\n",
       "        4.7660577e-03,  3.8522065e-03, -1.0821545e-03, -1.1938167e-03,\n",
       "       -2.0758272e-03,  6.2430260e-04, -4.8503317e-03, -3.8906122e-03,\n",
       "       -3.6446166e-03, -7.1907160e-04, -1.8053782e-03, -2.3544037e-03,\n",
       "       -2.1974326e-03,  4.3110861e-03, -3.4339726e-03,  3.0729736e-03,\n",
       "       -8.6584926e-04, -1.2735403e-03,  1.8782663e-03, -2.8863407e-03,\n",
       "       -1.0526812e-03,  6.4103841e-04,  3.4476125e-03, -4.1623306e-03,\n",
       "        3.1050134e-03, -2.4213470e-03, -3.2150626e-04, -4.2802738e-03,\n",
       "        4.5199655e-03, -3.2858609e-04, -3.7488008e-03, -2.8399623e-03,\n",
       "       -5.9739110e-04,  3.3880412e-03,  3.5139632e-03,  3.1027687e-03],\n",
       "      dtype=float32)"
      ]
     },
     "execution_count": 29,
     "metadata": {},
     "output_type": "execute_result"
    }
   ],
   "source": [
    "model.wv.get_vector('guy')"
   ]
  },
  {
   "cell_type": "code",
   "execution_count": 30,
   "id": "273c8b3e",
   "metadata": {},
   "outputs": [
    {
     "name": "stdout",
     "output_type": "stream",
     "text": [
      "1546\n"
     ]
    }
   ],
   "source": [
    "#total num of words\n",
    "vocab = list(model.wv.key_to_index.keys())\n",
    "print(len(vocab))"
   ]
  },
  {
   "cell_type": "code",
   "execution_count": 31,
   "id": "e4942190",
   "metadata": {},
   "outputs": [],
   "source": [
    "import numpy as np\n",
    "def avg_w2vec(sentences):\n",
    "    transformed = []\n",
    "    for sentence in sentences:\n",
    "        count = 0\n",
    "        vector = np.zeros(200)\n",
    "        for word in sentence.split():\n",
    "            if word in vocab:\n",
    "                vector += model.wv.get_vector(word)\n",
    "                count += 1\n",
    "        if count != 0:\n",
    "            vector /= count\n",
    "        transformed.append(vector)\n",
    "    return np.array(transformed)"
   ]
  },
  {
   "cell_type": "code",
   "execution_count": 32,
   "id": "27f3cb43",
   "metadata": {},
   "outputs": [],
   "source": [
    "x_train_transf = avg_w2vec(x_train)\n",
    "x_test_transf = avg_w2vec(x_test)"
   ]
  },
  {
   "cell_type": "markdown",
   "id": "cba43c80",
   "metadata": {},
   "source": [
    "<h1> Для проверки используем модели K-ближайших соседей, Бернулли и Логистическую регрессию<h1>"
   ]
  },
  {
   "cell_type": "code",
   "execution_count": 166,
   "id": "c6e7147c",
   "metadata": {},
   "outputs": [],
   "source": [
    "from sklearn.naive_bayes import BernoulliNB\n",
    "from sklearn.linear_model import LogisticRegression\n",
    "from sklearn.neighbors import KNeighborsClassifier\n",
    "from sklearn.metrics import balanced_accuracy_score, recall_score, precision_score, f1_score\n",
    "from sklearn.model_selection import GridSearchCV, StratifiedKFold"
   ]
  },
  {
   "cell_type": "code",
   "execution_count": 48,
   "id": "2998df8f",
   "metadata": {},
   "outputs": [],
   "source": [
    "lr_model = LogisticRegression()\n",
    "br_model = BernoulliNB()\n",
    "knn_model = KNeighborsClassifier()"
   ]
  },
  {
   "cell_type": "code",
   "execution_count": 49,
   "id": "9ad5d576",
   "metadata": {},
   "outputs": [],
   "source": [
    "lr_params = {'C': np.logspace(-2, 10, 8, base = 10)}\n",
    "\n",
    "br_params = {'alpha' : np.logspace(-4,1,8, base = 10)}\n",
    "\n",
    "knn_params = {'n_neighbors' : [10,20,30,40,50,60]}"
   ]
  },
  {
   "cell_type": "markdown",
   "id": "e995c183",
   "metadata": {},
   "source": [
    "<h1> KNeighbors <h1>"
   ]
  },
  {
   "cell_type": "code",
   "execution_count": 36,
   "id": "82d493c7",
   "metadata": {},
   "outputs": [
    {
     "data": {
      "text/plain": [
       "GridSearchCV(cv=StratifiedKFold(n_splits=4, random_state=None, shuffle=False),\n",
       "             estimator=KNeighborsClassifier(),\n",
       "             param_grid={'n_neighbors': [10, 20, 30, 40, 50, 60]},\n",
       "             return_train_score=True, scoring='balanced_accuracy')"
      ]
     },
     "execution_count": 36,
     "metadata": {},
     "output_type": "execute_result"
    }
   ],
   "source": [
    "grid_search_knn = GridSearchCV(knn_model, knn_params, cv = StratifiedKFold(n_splits = 4), scoring = 'balanced_accuracy', return_train_score = True)\n",
    "grid_search_knn.fit(x_train_transf, y_train)"
   ]
  },
  {
   "cell_type": "code",
   "execution_count": 37,
   "id": "ed3cefad",
   "metadata": {},
   "outputs": [
    {
     "data": {
      "text/plain": [
       "{'n_neighbors': 10}"
      ]
     },
     "execution_count": 37,
     "metadata": {},
     "output_type": "execute_result"
    }
   ],
   "source": [
    "grid_search_knn.best_params_"
   ]
  },
  {
   "cell_type": "code",
   "execution_count": 38,
   "id": "438ccb4d",
   "metadata": {},
   "outputs": [
    {
     "data": {
      "text/plain": [
       "0.6896381591459644"
      ]
     },
     "execution_count": 38,
     "metadata": {},
     "output_type": "execute_result"
    }
   ],
   "source": [
    "grid_search_knn.best_score_"
   ]
  },
  {
   "cell_type": "markdown",
   "id": "ad86fdd0",
   "metadata": {},
   "source": [
    "<h1> Logistic Regression <h1>"
   ]
  },
  {
   "cell_type": "code",
   "execution_count": 40,
   "id": "c978ccb3",
   "metadata": {},
   "outputs": [
    {
     "data": {
      "text/plain": [
       "GridSearchCV(cv=StratifiedKFold(n_splits=4, random_state=None, shuffle=False),\n",
       "             estimator=LogisticRegression(),\n",
       "             param_grid={'C': array([1.00000000e-02, 5.17947468e-01, 2.68269580e+01, 1.38949549e+03,\n",
       "       7.19685673e+04, 3.72759372e+06, 1.93069773e+08, 1.00000000e+10])},\n",
       "             return_train_score=True, scoring='balanced_accuracy')"
      ]
     },
     "execution_count": 40,
     "metadata": {},
     "output_type": "execute_result"
    }
   ],
   "source": [
    "grid_search_lr = GridSearchCV(lr_model, lr_params, cv = StratifiedKFold(n_splits = 4), scoring = 'balanced_accuracy', return_train_score = True)\n",
    "grid_search_lr.fit(x_train_transf, y_train)"
   ]
  },
  {
   "cell_type": "code",
   "execution_count": 41,
   "id": "16368d26",
   "metadata": {},
   "outputs": [
    {
     "data": {
      "text/plain": [
       "{'C': 193069772.88832456}"
      ]
     },
     "execution_count": 41,
     "metadata": {},
     "output_type": "execute_result"
    }
   ],
   "source": [
    "grid_search_lr.best_params_"
   ]
  },
  {
   "cell_type": "code",
   "execution_count": 73,
   "id": "7d5c0a3e",
   "metadata": {},
   "outputs": [
    {
     "data": {
      "text/plain": [
       "0.8316496889828722"
      ]
     },
     "execution_count": 73,
     "metadata": {},
     "output_type": "execute_result"
    }
   ],
   "source": [
    "grid_search_lr.best_score_"
   ]
  },
  {
   "cell_type": "markdown",
   "id": "5330e4ee",
   "metadata": {},
   "source": [
    "<h1> Bernoulli <h1>"
   ]
  },
  {
   "cell_type": "code",
   "execution_count": 43,
   "id": "ea33b32c",
   "metadata": {},
   "outputs": [
    {
     "data": {
      "text/plain": [
       "GridSearchCV(cv=StratifiedKFold(n_splits=4, random_state=None, shuffle=False),\n",
       "             estimator=BernoulliNB(),\n",
       "             param_grid={'alpha': array([1.00000000e-04, 5.17947468e-04, 2.68269580e-03, 1.38949549e-02,\n",
       "       7.19685673e-02, 3.72759372e-01, 1.93069773e+00, 1.00000000e+01])},\n",
       "             return_train_score=True, scoring='balanced_accuracy')"
      ]
     },
     "execution_count": 43,
     "metadata": {},
     "output_type": "execute_result"
    }
   ],
   "source": [
    "grid_search_br = GridSearchCV(br_model, br_params, cv = StratifiedKFold(n_splits = 4), scoring = 'balanced_accuracy', return_train_score = True)\n",
    "grid_search_br.fit(x_train_transf, y_train)"
   ]
  },
  {
   "cell_type": "code",
   "execution_count": 44,
   "id": "49b433e0",
   "metadata": {},
   "outputs": [
    {
     "data": {
      "text/plain": [
       "{'alpha': 10.0}"
      ]
     },
     "execution_count": 44,
     "metadata": {},
     "output_type": "execute_result"
    }
   ],
   "source": [
    "grid_search_br.best_params_"
   ]
  },
  {
   "cell_type": "code",
   "execution_count": 45,
   "id": "70ad7964",
   "metadata": {},
   "outputs": [
    {
     "data": {
      "text/plain": [
       "0.8228556500881322"
      ]
     },
     "execution_count": 45,
     "metadata": {},
     "output_type": "execute_result"
    }
   ],
   "source": [
    "grid_search_br.best_score_"
   ]
  },
  {
   "cell_type": "code",
   "execution_count": 54,
   "id": "c02b9d71",
   "metadata": {},
   "outputs": [],
   "source": [
    "from sklearn.metrics import roc_curve, auc, classification_report, confusion_matrix\n",
    "import matplotlib.pyplot as plt"
   ]
  },
  {
   "cell_type": "code",
   "execution_count": 51,
   "id": "55c72c9b",
   "metadata": {},
   "outputs": [],
   "source": [
    "models = {'KNeighbors': grid_search_knn,\n",
    "          'Logistic Regression': grid_search_lr,\n",
    "          'Bernoulli': grid_search_br}"
   ]
  },
  {
   "cell_type": "markdown",
   "id": "e3c54636",
   "metadata": {},
   "source": [
    "<h1> Построим графики ROC и AUC <h1>"
   ]
  },
  {
   "cell_type": "code",
   "execution_count": 58,
   "id": "02fc526c",
   "metadata": {},
   "outputs": [
    {
     "data": {
      "image/png": "[encoded data removed]",
      "text/plain": [
       "<Figure size 432x288 with 1 Axes>"
      ]
     },
     "metadata": {
      "needs_background": "light"
     },
     "output_type": "display_data"
    },
    {
     "data": {
      "image/png": "[encoded data removed]",
      "text/plain": [
       "<Figure size 432x288 with 1 Axes>"
      ]
     },
     "metadata": {
      "needs_background": "light"
     },
     "output_type": "display_data"
    },
    {
     "data": {
      "image/png": "[encoded data removed]",
      "text/plain": [
       "<Figure size 432x288 with 1 Axes>"
      ]
     },
     "metadata": {
      "needs_background": "light"
     },
     "output_type": "display_data"
    }
   ],
   "source": [
    "for (name, model) in models.items():\n",
    "    train_fpr, train_tpr, tresholds = roc_curve(y_train, model.predict_proba(x_train_transf)[:, 1])\n",
    "    test_fpr, test_tpr, tresholds = roc_curve(y_test, model.predict_proba(x_test_transf)[:, 1])\n",
    "    plt.plot(train_fpr, train_tpr, label = \"Training Accuracy = \" + str(round(auc(train_fpr, train_tpr), 2)))\n",
    "    plt.plot(test_fpr, test_tpr, label = \"Training Accuracy = \" + str(round(auc(test_fpr, test_tpr), 2)))\n",
    "    plt.scatter(train_fpr, train_tpr, label = \"Training Accuracy = \" + str(round(auc(train_fpr, train_tpr), 2)))\n",
    "    plt.scatter(test_fpr, test_tpr, label = \"Training Accuracy = \" + str(round(auc(test_fpr, test_tpr), 2)))\n",
    "    plt.legend()\n",
    "    plt.xlabel(\"Tresholds\")\n",
    "    plt.ylabel(\"ACCURACY\")\n",
    "    plt.title(\"Training and Testing ROC Curves for \" + name)\n",
    "    plt.show()"
   ]
  },
  {
   "cell_type": "markdown",
   "id": "713c5582",
   "metadata": {},
   "source": [
    "<h1> Построим матрицы ошибок для train и test каждой из моделей<h1>"
   ]
  },
  {
   "cell_type": "code",
   "execution_count": 60,
   "id": "099c46d4",
   "metadata": {},
   "outputs": [],
   "source": [
    "import seaborn as sns"
   ]
  },
  {
   "cell_type": "code",
   "execution_count": 67,
   "id": "e33402bf",
   "metadata": {},
   "outputs": [
    {
     "data": {
      "image/png": "[encoded data removed]",
      "text/plain": [
       "<Figure size 432x288 with 2 Axes>"
      ]
     },
     "metadata": {
      "needs_background": "light"
     },
     "output_type": "display_data"
    }
   ],
   "source": [
    "# KNeighbors train\n",
    "sns.heatmap(confusion_matrix(y_train, grid_search_knn.predict(x_train_transf)), annot = True, fmt = 'g')\n",
    "plt.show()"
   ]
  },
  {
   "cell_type": "code",
   "execution_count": 68,
   "id": "a871566a",
   "metadata": {},
   "outputs": [
    {
     "data": {
      "image/png": "[encoded data removed]",
      "text/plain": [
       "<Figure size 432x288 with 2 Axes>"
      ]
     },
     "metadata": {
      "needs_background": "light"
     },
     "output_type": "display_data"
    }
   ],
   "source": [
    "# KNeighbors test\n",
    "sns.heatmap(confusion_matrix(y_test, grid_search_knn.predict(x_test_transf)), annot = True, fmt = 'g')\n",
    "plt.show()"
   ]
  },
  {
   "cell_type": "code",
   "execution_count": 69,
   "id": "01181a44",
   "metadata": {},
   "outputs": [
    {
     "data": {
      "image/png": "[encoded data removed]",
      "text/plain": [
       "<Figure size 432x288 with 2 Axes>"
      ]
     },
     "metadata": {
      "needs_background": "light"
     },
     "output_type": "display_data"
    }
   ],
   "source": [
    "# Logistic Regression train\n",
    "sns.heatmap(confusion_matrix(y_train, grid_search_lr.predict(x_train_transf)), annot = True, fmt = 'g')\n",
    "plt.show()"
   ]
  },
  {
   "cell_type": "code",
   "execution_count": 70,
   "id": "2b90dae0",
   "metadata": {},
   "outputs": [
    {
     "data": {
      "image/png": "[encoded data removed]",
      "text/plain": [
       "<Figure size 432x288 with 2 Axes>"
      ]
     },
     "metadata": {
      "needs_background": "light"
     },
     "output_type": "display_data"
    }
   ],
   "source": [
    "# Logistic Regression test\n",
    "sns.heatmap(confusion_matrix(y_test, grid_search_lr.predict(x_test_transf)), annot = True, fmt = 'g')\n",
    "plt.show()"
   ]
  },
  {
   "cell_type": "code",
   "execution_count": 71,
   "id": "b1608743",
   "metadata": {},
   "outputs": [
    {
     "data": {
      "image/png": "[encoded data removed]",
      "text/plain": [
       "<Figure size 432x288 with 2 Axes>"
      ]
     },
     "metadata": {
      "needs_background": "light"
     },
     "output_type": "display_data"
    }
   ],
   "source": [
    "# Bernoulli train\n",
    "sns.heatmap(confusion_matrix(y_train, grid_search_br.predict(x_train_transf)), annot = True, fmt = 'g')\n",
    "plt.show()"
   ]
  },
  {
   "cell_type": "code",
   "execution_count": 72,
   "id": "798075c0",
   "metadata": {},
   "outputs": [
    {
     "data": {
      "image/png": "[encoded data removed]",
      "text/plain": [
       "<Figure size 432x288 with 2 Axes>"
      ]
     },
     "metadata": {
      "needs_background": "light"
     },
     "output_type": "display_data"
    }
   ],
   "source": [
    "# Bernoulli test\n",
    "sns.heatmap(confusion_matrix(y_test, grid_search_br.predict(x_test_transf)), annot = True, fmt = 'g')\n",
    "plt.show()"
   ]
  },
  {
   "cell_type": "code",
   "execution_count": 77,
   "id": "ad905f15",
   "metadata": {},
   "outputs": [],
   "source": [
    "metrics = pd.DataFrame(columns = [\"Accuracy\", \"Precision\", \"Recall\", \"F1\"],\n",
    "                      index = [\"KNeighbors_train\", \"KNeighbors_test\", \"LogReg_train\", \"LogReg_test\", \"Bernoulli_train\", \"Bernoulli_test\"])"
   ]
  },
  {
   "cell_type": "code",
   "execution_count": 103,
   "id": "b4d1eb1c",
   "metadata": {},
   "outputs": [],
   "source": [
    "knn_best = KNeighborsClassifier(**grid_search_knn.best_params_)\n",
    "knn_best.fit(x_train_transf, y_train)\n",
    "\n",
    "knn_train_pred = knn_best.predict(x_train_transf)\n",
    "knn_train_results = [balanced_accuracy_score(y_train, knn_train_pred), \n",
    "               precision_score(y_train, knn_train_pred), \n",
    "               recall_score(y_train, knn_train_pred),\n",
    "               f1_score(y_train, knn_train_pred)]\n",
    "metrics.iloc[0, :] = knn_train_results\n",
    "\n",
    "knn_test_pred = knn_best.predict(x_test_transf)\n",
    "knn_test_results = [balanced_accuracy_score(y_test, knn_test_pred), \n",
    "               precision_score(y_test, knn_test_pred), \n",
    "               recall_score(y_test, knn_test_pred),\n",
    "               f1_score(y_test, knn_test_pred)]\n",
    "metrics.iloc[1, :] = knn_test_results\n",
    "\n",
    "lr_best = LogisticRegression(**grid_search_lr.best_params_)\n",
    "lr_best.fit(x_train_transf, y_train)\n",
    "\n",
    "lr_train_pred = lr_best.predict(x_train_transf)\n",
    "lr_train_results = [balanced_accuracy_score(y_train, lr_train_pred), \n",
    "               precision_score(y_train, lr_train_pred), \n",
    "               recall_score(y_train, lr_train_pred),\n",
    "               f1_score(y_train, lr_train_pred)]\n",
    "metrics.iloc[2, :] = lr_train_results\n",
    "\n",
    "lr_test_pred = lr_best.predict(x_test_transf)\n",
    "lr_test_results = [balanced_accuracy_score(y_test, lr_test_pred), \n",
    "               precision_score(y_test, lr_test_pred), \n",
    "               recall_score(y_test, lr_test_pred),\n",
    "               f1_score(y_test, lr_test_pred)]\n",
    "metrics.iloc[3, :] = lr_test_results\n",
    "\n",
    "br_best = BernoulliNB(**grid_search_br.best_params_)\n",
    "br_best.fit(x_train_transf, y_train)\n",
    "\n",
    "br_train_pred = br_best.predict(x_train_transf)\n",
    "br_train_results = [balanced_accuracy_score(y_train, br_train_pred), \n",
    "               precision_score(y_train, br_train_pred), \n",
    "               recall_score(y_train, br_train_pred),\n",
    "               f1_score(y_train, br_train_pred)]\n",
    "metrics.iloc[4, :] = br_train_results\n",
    "\n",
    "br_test_pred = br_best.predict(x_test_transf)\n",
    "br_test_results = [balanced_accuracy_score(y_test, br_test_pred), \n",
    "               precision_score(y_test, br_test_pred), \n",
    "               recall_score(y_test, br_test_pred),\n",
    "               f1_score(y_test, br_test_pred)]\n",
    "metrics.iloc[5, :] = br_test_results"
   ]
  },
  {
   "cell_type": "code",
   "execution_count": 104,
   "id": "0fc632c2",
   "metadata": {},
   "outputs": [
    {
     "data": {
      "text/html": [
       "<div>\n",
       "<style scoped>\n",
       "    .dataframe tbody tr th:only-of-type {\n",
       "        vertical-align: middle;\n",
       "    }\n",
       "\n",
       "    .dataframe tbody tr th {\n",
       "        vertical-align: top;\n",
       "    }\n",
       "\n",
       "    .dataframe thead th {\n",
       "        text-align: right;\n",
       "    }\n",
       "</style>\n",
       "<table border=\"1\" class=\"dataframe\">\n",
       "  <thead>\n",
       "    <tr style=\"text-align: right;\">\n",
       "      <th></th>\n",
       "      <th>Accuracy</th>\n",
       "      <th>Precision</th>\n",
       "      <th>Recall</th>\n",
       "      <th>F1</th>\n",
       "    </tr>\n",
       "  </thead>\n",
       "  <tbody>\n",
       "    <tr>\n",
       "      <th>KNeighbors_train</th>\n",
       "      <td>0.766873</td>\n",
       "      <td>0.91573</td>\n",
       "      <td>0.541528</td>\n",
       "      <td>0.680585</td>\n",
       "    </tr>\n",
       "    <tr>\n",
       "      <th>KNeighbors_test</th>\n",
       "      <td>0.74641</td>\n",
       "      <td>0.813187</td>\n",
       "      <td>0.510345</td>\n",
       "      <td>0.627119</td>\n",
       "    </tr>\n",
       "    <tr>\n",
       "      <th>LogReg_train</th>\n",
       "      <td>0.850453</td>\n",
       "      <td>0.828897</td>\n",
       "      <td>0.724252</td>\n",
       "      <td>0.77305</td>\n",
       "    </tr>\n",
       "    <tr>\n",
       "      <th>LogReg_test</th>\n",
       "      <td>0.854728</td>\n",
       "      <td>0.726667</td>\n",
       "      <td>0.751724</td>\n",
       "      <td>0.738983</td>\n",
       "    </tr>\n",
       "    <tr>\n",
       "      <th>Bernoulli_train</th>\n",
       "      <td>0.832147</td>\n",
       "      <td>0.571248</td>\n",
       "      <td>0.752492</td>\n",
       "      <td>0.649462</td>\n",
       "    </tr>\n",
       "    <tr>\n",
       "      <th>Bernoulli_test</th>\n",
       "      <td>0.86118</td>\n",
       "      <td>0.58794</td>\n",
       "      <td>0.806897</td>\n",
       "      <td>0.680233</td>\n",
       "    </tr>\n",
       "  </tbody>\n",
       "</table>\n",
       "</div>"
      ],
      "text/plain": [
       "                  Accuracy Precision    Recall        F1\n",
       "KNeighbors_train  0.766873   0.91573  0.541528  0.680585\n",
       "KNeighbors_test    0.74641  0.813187  0.510345  0.627119\n",
       "LogReg_train      0.850453  0.828897  0.724252   0.77305\n",
       "LogReg_test       0.854728  0.726667  0.751724  0.738983\n",
       "Bernoulli_train   0.832147  0.571248  0.752492  0.649462\n",
       "Bernoulli_test     0.86118   0.58794  0.806897  0.680233"
      ]
     },
     "execution_count": 104,
     "metadata": {},
     "output_type": "execute_result"
    }
   ],
   "source": [
    "metrics"
   ]
  },
  {
   "cell_type": "code",
   "execution_count": 163,
   "id": "f46c6d04",
   "metadata": {},
   "outputs": [],
   "source": [
    "train_metrics_val_max = metrics.iloc[::2].max().values\n",
    "test_metrics_val_max = metrics.iloc[1::2].max().values"
   ]
  },
  {
   "cell_type": "code",
   "execution_count": 164,
   "id": "bf994547",
   "metadata": {},
   "outputs": [],
   "source": [
    "def paint_maxvalue_cells(val):\n",
    "    color = 'white'\n",
    "    if val.item() in train_metrics_val_max:\n",
    "        color = 'green'\n",
    "    elif val.item() in test_metrics_val_max:\n",
    "        color = 'lightgreen'\n",
    "    return f'background-color: {color}'"
   ]
  },
  {
   "cell_type": "code",
   "execution_count": 165,
   "id": "037d00c5",
   "metadata": {},
   "outputs": [
    {
     "data": {
      "text/html": [
       "<style  type=\"text/css\" >\n",
       "#T_da614_row0_col0,#T_da614_row0_col2,#T_da614_row0_col3,#T_da614_row1_col0,#T_da614_row1_col2,#T_da614_row1_col3,#T_da614_row2_col1,#T_da614_row2_col2,#T_da614_row3_col0,#T_da614_row3_col1,#T_da614_row3_col2,#T_da614_row4_col0,#T_da614_row4_col1,#T_da614_row4_col3,#T_da614_row5_col1,#T_da614_row5_col3{\n",
       "            background-color:  white;\n",
       "        }#T_da614_row0_col1,#T_da614_row2_col0,#T_da614_row2_col3,#T_da614_row4_col2{\n",
       "            background-color:  green;\n",
       "        }#T_da614_row1_col1,#T_da614_row3_col3,#T_da614_row5_col0,#T_da614_row5_col2{\n",
       "            background-color:  lightgreen;\n",
       "        }</style><table id=\"T_da614_\" ><thead>    <tr>        <th class=\"blank level0\" ></th>        <th class=\"col_heading level0 col0\" >Accuracy</th>        <th class=\"col_heading level0 col1\" >Precision</th>        <th class=\"col_heading level0 col2\" >Recall</th>        <th class=\"col_heading level0 col3\" >F1</th>    </tr></thead><tbody>\n",
       "                <tr>\n",
       "                        <th id=\"T_da614_level0_row0\" class=\"row_heading level0 row0\" >KNeighbors_train</th>\n",
       "                        <td id=\"T_da614_row0_col0\" class=\"data row0 col0\" >0.766873</td>\n",
       "                        <td id=\"T_da614_row0_col1\" class=\"data row0 col1\" >0.915730</td>\n",
       "                        <td id=\"T_da614_row0_col2\" class=\"data row0 col2\" >0.541528</td>\n",
       "                        <td id=\"T_da614_row0_col3\" class=\"data row0 col3\" >0.680585</td>\n",
       "            </tr>\n",
       "            <tr>\n",
       "                        <th id=\"T_da614_level0_row1\" class=\"row_heading level0 row1\" >KNeighbors_test</th>\n",
       "                        <td id=\"T_da614_row1_col0\" class=\"data row1 col0\" >0.746410</td>\n",
       "                        <td id=\"T_da614_row1_col1\" class=\"data row1 col1\" >0.813187</td>\n",
       "                        <td id=\"T_da614_row1_col2\" class=\"data row1 col2\" >0.510345</td>\n",
       "                        <td id=\"T_da614_row1_col3\" class=\"data row1 col3\" >0.627119</td>\n",
       "            </tr>\n",
       "            <tr>\n",
       "                        <th id=\"T_da614_level0_row2\" class=\"row_heading level0 row2\" >LogReg_train</th>\n",
       "                        <td id=\"T_da614_row2_col0\" class=\"data row2 col0\" >0.850453</td>\n",
       "                        <td id=\"T_da614_row2_col1\" class=\"data row2 col1\" >0.828897</td>\n",
       "                        <td id=\"T_da614_row2_col2\" class=\"data row2 col2\" >0.724252</td>\n",
       "                        <td id=\"T_da614_row2_col3\" class=\"data row2 col3\" >0.773050</td>\n",
       "            </tr>\n",
       "            <tr>\n",
       "                        <th id=\"T_da614_level0_row3\" class=\"row_heading level0 row3\" >LogReg_test</th>\n",
       "                        <td id=\"T_da614_row3_col0\" class=\"data row3 col0\" >0.854728</td>\n",
       "                        <td id=\"T_da614_row3_col1\" class=\"data row3 col1\" >0.726667</td>\n",
       "                        <td id=\"T_da614_row3_col2\" class=\"data row3 col2\" >0.751724</td>\n",
       "                        <td id=\"T_da614_row3_col3\" class=\"data row3 col3\" >0.738983</td>\n",
       "            </tr>\n",
       "            <tr>\n",
       "                        <th id=\"T_da614_level0_row4\" class=\"row_heading level0 row4\" >Bernoulli_train</th>\n",
       "                        <td id=\"T_da614_row4_col0\" class=\"data row4 col0\" >0.832147</td>\n",
       "                        <td id=\"T_da614_row4_col1\" class=\"data row4 col1\" >0.571248</td>\n",
       "                        <td id=\"T_da614_row4_col2\" class=\"data row4 col2\" >0.752492</td>\n",
       "                        <td id=\"T_da614_row4_col3\" class=\"data row4 col3\" >0.649462</td>\n",
       "            </tr>\n",
       "            <tr>\n",
       "                        <th id=\"T_da614_level0_row5\" class=\"row_heading level0 row5\" >Bernoulli_test</th>\n",
       "                        <td id=\"T_da614_row5_col0\" class=\"data row5 col0\" >0.861180</td>\n",
       "                        <td id=\"T_da614_row5_col1\" class=\"data row5 col1\" >0.587940</td>\n",
       "                        <td id=\"T_da614_row5_col2\" class=\"data row5 col2\" >0.806897</td>\n",
       "                        <td id=\"T_da614_row5_col3\" class=\"data row5 col3\" >0.680233</td>\n",
       "            </tr>\n",
       "    </tbody></table>"
      ],
      "text/plain": [
       "<pandas.io.formats.style.Styler at 0x13c0f4c0>"
      ]
     },
     "execution_count": 165,
     "metadata": {},
     "output_type": "execute_result"
    }
   ],
   "source": [
    "# зеленый - максимум для train\n",
    "# светлозеленый - максимум для test\n",
    "metrics.style.apply(lambda x: x.map(paint_maxvalue_cells), axis = 0)"
   ]
  },
  {
   "cell_type": "markdown",
   "id": "53bf5e5e",
   "metadata": {},
   "source": [
    "<h1> В задачах классификации спам-сообщений наиболее важной метрикой является False-negative, т.к. если нормальное сообщение модель пометит как спам, то пользователь его уже врядли найдет <h1>"
   ]
  },
  {
   "cell_type": "markdown",
   "id": "9a74538e",
   "metadata": {},
   "source": [
    "<h1> Модель Бернулли имеет наименьший показатель False-negative (28) на тестовых данных по сравнению с моделями логистической регресии и К-соседей, а также превосходит остальные модели по двум метрикам из четырех на тестовых данных, поэтому в этой задаче является лучшей.<h1>"
   ]
  }
 ],
 "metadata": {
  "kernelspec": {
   "display_name": "Python 3",
   "language": "python",
   "name": "python3"
  },
  "language_info": {
   "codemirror_mode": {
    "name": "ipython",
    "version": 3
   },
   "file_extension": ".py",
   "mimetype": "text/x-python",
   "name": "python",
   "nbconvert_exporter": "python",
   "pygments_lexer": "ipython3",
   "version": "3.8.8"
  }
 },
 "nbformat": 4,
 "nbformat_minor": 5
}
